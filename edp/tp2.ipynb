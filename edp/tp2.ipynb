{
 "cells": [
  {
   "cell_type": "markdown",
   "metadata": {},
   "source": [
    "### TP 2 ”Intégration temporelle”"
   ]
  },
  {
   "cell_type": "code",
   "execution_count": 1,
   "metadata": {},
   "outputs": [],
   "source": [
    "import plotly.express as px\n",
    "import plotly.graph_objects as go\n",
    "from mpl_toolkits.mplot3d.axes3d import Axes3D\n",
    "import matplotlib.pyplot as plt\n",
    "from matplotlib import cm\n",
    "\n",
    "from mpl_toolkits.mplot3d.axes3d import get_test_data\n",
    "import numpy as np\n",
    "pi=3.14\n",
    "a = 1\n",
    "c = 0.5\n",
    "l = 1\n",
    "m = 50\n",
    "b = 1 \n",
    "x0 = 0.5\n"
   ]
  },
  {
   "cell_type": "code",
   "execution_count": null,
   "metadata": {},
   "outputs": [],
   "source": [
    "# Schéma FOU-EE\n",
    "def fouee(cdi,a = 1,c = 0.5,l = 1, m = 50 ,b = 1 ):\n",
    "    \n",
    "            dx = l/m\n",
    "            dt = c*dx/a\n",
    "            T = l/a\n",
    "            n = int(T/dt)\n",
    "            u = np.zeros ( m )\n",
    "            c1 = c/2\n",
    "            c2 = (c**2)/2\n",
    "            u = np.zeros ( m )\n",
    "            unew = np.zeros ( m )\n",
    "            X = np.zeros ( [ m, n + 1 ] )\n",
    "            Y = np.zeros ( [ m, n + 1 ] )\n",
    "            Z = np.zeros ( [ m, n + 1 ] )\n",
    "            for j in range ( 0, n + 1 ):\n",
    "                t = float ( j ) / float ( n )\n",
    "                if ( j == 0 ):\n",
    "                      unew = cdi\n",
    "                else:\n",
    "                   unew[0] = u[0] - c * ( u[0] - u[-1] )\n",
    "                   unew[1:m] = u[1:m] - c * ( u[1:m] - u[-1:m-1] ) \n",
    "                u[:] = unew[:]\n",
    "                X[:,j] = x[:]\n",
    "                Y[:,j] = t\n",
    "                Z[:,j] = u[:]\n",
    "            return X,Y,Z"
   ]
  },
  {
   "cell_type": "code",
   "execution_count": 7,
   "metadata": {},
   "outputs": [],
   "source": [
    "# Schéma UPO2VF-EE\n",
    "def opo2vfee(cdi,a = 1,c = 0.5,l = 1, m = 50 ,b = 1 ):\n",
    "    \n",
    "            dx = l/m\n",
    "            dt = c*dx/a\n",
    "            T = l/a\n",
    "            n = int(T/dt)\n",
    "            u = np.zeros ( m )\n",
    "            c1 = c/2\n",
    "            c2 = (c**2)/2\n",
    "            c3 = c/4\n",
    "            u = np.zeros ( m )\n",
    "            unew = np.zeros ( m )\n",
    "            X = np.zeros ( [ m, n + 1 ] )\n",
    "            Y = np.zeros ( [ m, n + 1 ] )\n",
    "            Z = np.zeros ( [ m, n + 1 ] )\n",
    "            for j in range ( 0, n + 1 ):\n",
    "                t = float ( j ) / float ( n )\n",
    "                if ( j == 0 ):\n",
    "                      unew = cdi\n",
    "                else:\n",
    "                   unew[0] = u[0] - c3 * ( u[1] + 3*u[O] -5 * u[-1] + u[-2])\n",
    "                   unew[1] = u[1] - c3 * ( u[2] + 3*u[1] -5 * u[0] + u[-1])\n",
    "                   unew[-1] = u[-1] - c3 * ( u[0] + 3*u[-1] -5 * u[-2] + u[-3])\n",
    "                   unew[2:m-1] = u[2:m-1] - c3 * ( u[3:m] + 3*u[2:m-1] ) -5*u[1:m-2] +u[0:m-3]\n",
    "                u[:] = unew[:]\n",
    "                X[:,j] = x[:]\n",
    "                Y[:,j] = t\n",
    "                Z[:,j] = u[:]\n",
    "            return X,Y,Z"
   ]
  },
  {
   "cell_type": "code",
   "execution_count": null,
   "metadata": {},
   "outputs": [],
   "source": [
    "#c=0.1;0.5;1\n",
    "X,Y,Z= fou(CI1,b=i)\n",
    "plt.plot(x,Z[:,50],'y-D',label=\"Solution à t=0.50\")\n",
    "plt.plot(x,Z[:,30],'g-D',label=\"Solution à t=0.30\")\n",
    "plt.plot(x,Z[:,15],'r-D',label=\"Solution à t=0.15\")\n",
    "plt.plot(x,CI1,'b-D',label=\"CI1\" )"
   ]
  },
  {
   "cell_type": "code",
   "execution_count": 3,
   "metadata": {},
   "outputs": [
    {
     "name": "stdout",
     "output_type": "stream",
     "text": [
      "[2]\n"
     ]
    },
    {
     "data": {
      "text/plain": [
       "array([0., 0.])"
      ]
     },
     "execution_count": 3,
     "metadata": {},
     "output_type": "execute_result"
    }
   ],
   "source": [
    "l=[1,2,3]\n",
    "print(l[1:-1])\n",
    "np.zeros(2)"
   ]
  }
 ],
 "metadata": {
  "interpreter": {
   "hash": "f9f85f796d01129d0dd105a088854619f454435301f6ffec2fea96ecbd9be4ac"
  },
  "kernelspec": {
   "display_name": "Python 3.9.5 64-bit",
   "language": "python",
   "name": "python3"
  },
  "language_info": {
   "codemirror_mode": {
    "name": "ipython",
    "version": 3
   },
   "file_extension": ".py",
   "mimetype": "text/x-python",
   "name": "python",
   "nbconvert_exporter": "python",
   "pygments_lexer": "ipython3",
   "version": "3.8.10"
  },
  "orig_nbformat": 4
 },
 "nbformat": 4,
 "nbformat_minor": 2
}
